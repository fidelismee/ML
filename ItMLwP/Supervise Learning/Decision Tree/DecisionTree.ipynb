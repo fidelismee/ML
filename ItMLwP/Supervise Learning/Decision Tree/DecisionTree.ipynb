{
 "cells": [
  {
   "cell_type": "code",
   "execution_count": 3,
   "metadata": {},
   "outputs": [
    {
     "name": "stdout",
     "output_type": "stream",
     "text": [
      "Python version: 3.11.7 | packaged by Anaconda, Inc. | (main, Dec 15 2023, 18:05:47) [MSC v.1916 64 bit (AMD64)]\n",
      "pandas version: 2.0.3\n",
      "matplotlib version: 3.7.2\n",
      "NumPy version: 1.23.5\n",
      "SciPy version: 1.10.1\n",
      "IPython version: 8.20.0\n",
      "scikit-learn version: 1.2.2\n"
     ]
    }
   ],
   "source": [
    "import sys\n",
    "print(\"Python version: {}\".format(sys.version))\n",
    "import pandas as pd\n",
    "print(\"pandas version: {}\".format(pd.__version__))\n",
    "import matplotlib\n",
    "import matplotlib.pyplot as plt\n",
    "print(\"matplotlib version: {}\".format(matplotlib.__version__))\n",
    "import numpy as np\n",
    "print(\"NumPy version: {}\".format(np.__version__))\n",
    "import scipy as sp\n",
    "print(\"SciPy version: {}\".format(sp.__version__))\n",
    "import IPython\n",
    "print(\"IPython version: {}\".format(IPython.__version__))\n",
    "import sklearn\n",
    "print(\"scikit-learn version: {}\".format(sklearn.__version__))\n",
    "import mglearn"
   ]
  },
  {
   "cell_type": "markdown",
   "metadata": {},
   "source": [
    "### Decision Trees\n",
    "\n",
    "These questions are similar to the questions you might ask in a game of 20 Questions.\n",
    "Imagine you want to distinguish between the following four animals: bears, hawks,\n",
    "penguins, and dolphins. Your goal is to get to the right answer by asking as few if/else\n",
    "questions as possible. You might start off by asking whether the animal has feathers, a\n",
    "question that narrows down your possible animals to just two. If the answer is “yes,”\n",
    "you can ask another question that could help you distinguish between hawks and\n",
    "penguins. For example, you could ask whether the animal can fly. If the animal\n",
    "doesn’t have feathers, your possible animal choices are dolphins and bears, and you\n",
    "will need to ask a question to distinguish between these two animals—for example,\n",
    "asking whether the animal has fins."
   ]
  },
  {
   "cell_type": "markdown",
   "metadata": {},
   "source": [
    "# Building decision trees\n",
    "\n",
    "Learning a decision tree means learning the sequence of if/else questions that gets us\n",
    "to the true answer most quickly. In the machine learning setting, these questions are\n",
    "called tests (not to be confused with the test set, which is the data we use to test to see\n",
    "how generalizable our model is). Usually data does not come in the form of binary\n",
    "yes/no features as in the animal example, but is instead represented as continuous\n",
    "features such as in the 2D dataset shown in Figure 2-23. The tests that are used on\n",
    "continuous data are of the form “Is feature i larger than value a?”\n"
   ]
  },
  {
   "cell_type": "markdown",
   "metadata": {},
   "source": [
    "#  decision tree for classification using the Iris dataset."
   ]
  },
  {
   "cell_type": "code",
   "execution_count": 2,
   "metadata": {},
   "outputs": [],
   "source": [
    "from sklearn.datasets import load_iris\n",
    "from sklearn.model_selection import train_test_split\n",
    "from sklearn.tree import DecisionTreeClassifier\n",
    "from sklearn.metrics import accuracy_score, confusion_matrix, classification_report\n",
    "from sklearn import tree\n",
    "import matplotlib.pyplot as plt"
   ]
  },
  {
   "cell_type": "code",
   "execution_count": null,
   "metadata": {},
   "outputs": [],
   "source": []
  }
 ],
 "metadata": {
  "kernelspec": {
   "display_name": "base",
   "language": "python",
   "name": "python3"
  },
  "language_info": {
   "codemirror_mode": {
    "name": "ipython",
    "version": 3
   },
   "file_extension": ".py",
   "mimetype": "text/x-python",
   "name": "python",
   "nbconvert_exporter": "python",
   "pygments_lexer": "ipython3",
   "version": "3.11.7"
  }
 },
 "nbformat": 4,
 "nbformat_minor": 2
}

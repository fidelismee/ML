{
 "cells": [
  {
   "cell_type": "code",
   "execution_count": 26,
   "metadata": {},
   "outputs": [
    {
     "name": "stdout",
     "output_type": "stream",
     "text": [
      "Python version: 3.11.7 | packaged by Anaconda, Inc. | (main, Dec 15 2023, 18:05:47) [MSC v.1916 64 bit (AMD64)]\n",
      "pandas version: 2.0.3\n",
      "matplotlib version: 3.7.2\n",
      "NumPy version: 1.23.5\n",
      "SciPy version: 1.10.1\n",
      "IPython version: 8.20.0\n",
      "scikit-learn version: 1.2.2\n"
     ]
    }
   ],
   "source": [
    "import sys\n",
    "print(\"Python version: {}\".format(sys.version))\n",
    "import pandas as pd\n",
    "print(\"pandas version: {}\".format(pd.__version__))\n",
    "import matplotlib\n",
    "import matplotlib.pyplot as plt\n",
    "print(\"matplotlib version: {}\".format(matplotlib.__version__))\n",
    "import numpy as np\n",
    "print(\"NumPy version: {}\".format(np.__version__))\n",
    "import scipy as sp\n",
    "print(\"SciPy version: {}\".format(sp.__version__))\n",
    "import IPython\n",
    "print(\"IPython version: {}\".format(IPython.__version__))\n",
    "import sklearn\n",
    "print(\"scikit-learn version: {}\".format(sklearn.__version__))\n",
    "\n",
    "from sklearn.model_selection import train_test_split\n",
    "import mglearn"
   ]
  },
  {
   "cell_type": "markdown",
   "metadata": {},
   "source": [
    "# Gradient boosted regression trees (gradient boosting machines)"
   ]
  },
  {
   "cell_type": "markdown",
   "metadata": {},
   "source": [
    "### Gradient Boosted Regression Trees (GBRT) – Simplified Explanation:\n",
    "\n",
    "Gradient Boosted Regression Trees (GBRT) is a machine learning technique used for both **regression** and **classification** tasks. Here’s how it works in simpler terms:\n",
    "\n",
    "1. **Ensemble Learning**: GBRT is an ensemble method, which means it combines multiple models (called **decision trees**) to create a stronger model. Each individual tree is weak on its own, but when combined, they make powerful predictions.\n",
    "\n",
    "2. **Serial Training**: Unlike Random Forests, which build trees independently and randomly, GBRT builds each tree one at a time in a **series**. Each new tree focuses on correcting the mistakes of the previous trees.\n",
    "\n",
    "3. **Weak Learners**: GBRT uses **shallow trees**, meaning trees with a limited depth (usually 1 to 5 layers). These trees are simple and are known as \"weak learners\" because each one can only handle part of the data well.\n",
    "\n",
    "4. **Improvement Step-by-Step**: The idea is to build one weak tree at a time and gradually **improve** the model's performance. Each tree tries to \"fix\" where the previous tree was wrong. Over time, as more trees are added, the model becomes more accurate.\n",
    "\n",
    "5. **Memory Efficient and Fast**: Because GBRT trees are shallow, the model is smaller and faster at making predictions compared to deeper decision trees.\n",
    "\n",
    "6. **Learning Rate**: GBRT uses a **learning rate** to control how strongly each new tree corrects the previous tree's mistakes. A **higher learning rate** means stronger corrections but may lead to overfitting (the model becomes too complex). A **lower learning rate** means smaller steps toward improving the model, but more trees are needed.\n",
    "\n",
    "7. **Tuning Parameters**:\n",
    "   - **n_estimators**: The number of trees in the model. More trees generally make the model better, but also more complex.\n",
    "   - **max_depth**: How deep each tree is allowed to be. Shallow trees (low depth) are used to keep the model simple.\n",
    "   - **learning_rate**: Controls how much each tree impacts the final model. A lower learning rate means more trees are needed but helps avoid overfitting.\n",
    "\n",
    "### Why GBRT Is Popular:\n",
    "- **Accuracy**: When tuned properly, GBRT can be **more accurate** than other models like Random Forests.\n",
    "- **Common in Competitions**: GBRT is often the go-to model in machine learning competitions and is widely used in industry.\n",
    "\n",
    "### Example:\n",
    "Here’s a typical usage of `GradientBoostingClassifier` (GBRT for classification) on the **Breast Cancer dataset**:\n",
    "- The model builds **100 trees**, each with a **maximum depth of 3**.\n",
    "- It uses a **learning rate of 0.1** to gradually improve the accuracy of predictions. \n",
    "\n",
    "GBRT can outperform other models if the parameters (like the number of trees and learning rate) are set correctly, making it a powerful tool in machine learning."
   ]
  },
  {
   "cell_type": "code",
   "execution_count": 27,
   "metadata": {},
   "outputs": [
    {
     "name": "stdout",
     "output_type": "stream",
     "text": [
      "Accuracy on training set: 1.000\n",
      "Accuracy on test set: 0.965\n"
     ]
    }
   ],
   "source": [
    "from sklearn.ensemble import GradientBoostingClassifier\n",
    "from sklearn.datasets import load_breast_cancer\n",
    "cancer = load_breast_cancer()\n",
    "X_train, X_test, y_train, y_test = train_test_split( cancer.data, cancer.target, random_state=0)\n",
    "\n",
    "gbrt = GradientBoostingClassifier(random_state=0)\n",
    "gbrt.fit(X_train, y_train)\n",
    "\n",
    "print(\"Accuracy on training set: {:.3f}\".format(gbrt.score(X_train, y_train)))\n",
    "print(\"Accuracy on test set: {:.3f}\".format(gbrt.score(X_test, y_test)))\n"
   ]
  },
  {
   "cell_type": "markdown",
   "metadata": {},
   "source": [
    "As the training set accuracy is 100%, we are likely to be overfitting. To reduce overfit‐\n",
    "ting, we could either apply stronger pre-pruning by limiting the maximum depth or\n",
    "lower the learning rate:"
   ]
  },
  {
   "cell_type": "code",
   "execution_count": 28,
   "metadata": {},
   "outputs": [
    {
     "name": "stdout",
     "output_type": "stream",
     "text": [
      "Accuracy on training set: 0.991\n",
      "Accuracy on test set: 0.972\n"
     ]
    }
   ],
   "source": [
    "gbrt = GradientBoostingClassifier(random_state=0, max_depth=1)\n",
    "gbrt.fit(X_train, y_train)\n",
    "print(\"Accuracy on training set: {:.3f}\".format(gbrt.score(X_train, y_train)))\n",
    "print(\"Accuracy on test set: {:.3f}\".format(gbrt.score(X_test, y_test)))\n"
   ]
  },
  {
   "cell_type": "code",
   "execution_count": 29,
   "metadata": {},
   "outputs": [
    {
     "name": "stdout",
     "output_type": "stream",
     "text": [
      "Accuracy on training set: 0.988\n",
      "Accuracy on test set: 0.958\n"
     ]
    }
   ],
   "source": [
    "gbrt = GradientBoostingClassifier(random_state=0, learning_rate=0.01)\n",
    "gbrt.fit(X_train, y_train)\n",
    "print(\"Accuracy on training set: {:.3f}\".format(gbrt.score(X_train, y_train)))\n",
    "print(\"Accuracy on test set: {:.3f}\".format(gbrt.score(X_test, y_test)))\n"
   ]
  },
  {
   "cell_type": "markdown",
   "metadata": {},
   "source": [
    "Both methods of decreasing the model complexity reduced the training set accuracy,\n",
    "as expected. In this case, lowering the maximum depth of the trees provided a signifi‐\n",
    "cant improvement of the model, while lowering the learning rate only increased the\n",
    "generalization performance slightly.\n",
    "As for the other decision tree–based models, we can again visualize the feature\n",
    "importances to get more insight into our model (Figure 2-35). As we used 100 trees, it\n",
    "is impractical to inspect them all, even if they are all of depth 1:"
   ]
  },
  {
   "cell_type": "code",
   "execution_count": 30,
   "metadata": {},
   "outputs": [
    {
     "ename": "ValueError",
     "evalue": "The number of FixedLocator locations (30), usually from a call to set_ticks, does not match the number of labels (4).",
     "output_type": "error",
     "traceback": [
      "\u001b[1;31m---------------------------------------------------------------------------\u001b[0m",
      "\u001b[1;31mValueError\u001b[0m                                Traceback (most recent call last)",
      "Cell \u001b[1;32mIn[30], line 21\u001b[0m\n\u001b[0;32m     18\u001b[0m feature_names \u001b[38;5;241m=\u001b[39m [\u001b[38;5;124m'\u001b[39m\u001b[38;5;124mfeature1\u001b[39m\u001b[38;5;124m'\u001b[39m, \u001b[38;5;124m'\u001b[39m\u001b[38;5;124mfeature2\u001b[39m\u001b[38;5;124m'\u001b[39m, \u001b[38;5;124m'\u001b[39m\u001b[38;5;124mfeature3\u001b[39m\u001b[38;5;124m'\u001b[39m, \u001b[38;5;124m'\u001b[39m\u001b[38;5;124mfeature4\u001b[39m\u001b[38;5;124m'\u001b[39m]  \u001b[38;5;66;03m# Replace with actual names\u001b[39;00m\n\u001b[0;32m     20\u001b[0m \u001b[38;5;66;03m# Call the function to plot feature importances\u001b[39;00m\n\u001b[1;32m---> 21\u001b[0m plot_feature_importances_cancer(gbrt)\n",
      "Cell \u001b[1;32mIn[30], line 8\u001b[0m, in \u001b[0;36mplot_feature_importances_cancer\u001b[1;34m(model)\u001b[0m\n\u001b[0;32m      6\u001b[0m n_features \u001b[38;5;241m=\u001b[39m X_train\u001b[38;5;241m.\u001b[39mshape[\u001b[38;5;241m1\u001b[39m]  \u001b[38;5;66;03m# Number of features in the dataset\u001b[39;00m\n\u001b[0;32m      7\u001b[0m plt\u001b[38;5;241m.\u001b[39mbarh(\u001b[38;5;28mrange\u001b[39m(n_features), model\u001b[38;5;241m.\u001b[39mfeature_importances_, align\u001b[38;5;241m=\u001b[39m\u001b[38;5;124m'\u001b[39m\u001b[38;5;124mcenter\u001b[39m\u001b[38;5;124m'\u001b[39m)\n\u001b[1;32m----> 8\u001b[0m plt\u001b[38;5;241m.\u001b[39myticks(np\u001b[38;5;241m.\u001b[39marange(n_features), feature_names)  \u001b[38;5;66;03m# Replace 'feature_names' with your actual feature names\u001b[39;00m\n\u001b[0;32m      9\u001b[0m plt\u001b[38;5;241m.\u001b[39mxlabel(\u001b[38;5;124m\"\u001b[39m\u001b[38;5;124mFeature Importance\u001b[39m\u001b[38;5;124m\"\u001b[39m)\n\u001b[0;32m     10\u001b[0m plt\u001b[38;5;241m.\u001b[39mylabel(\u001b[38;5;124m\"\u001b[39m\u001b[38;5;124mFeature\u001b[39m\u001b[38;5;124m\"\u001b[39m)\n",
      "File \u001b[1;32mc:\\Users\\faris\\anaconda3\\Lib\\site-packages\\matplotlib\\pyplot.py:1956\u001b[0m, in \u001b[0;36myticks\u001b[1;34m(ticks, labels, minor, **kwargs)\u001b[0m\n\u001b[0;32m   1954\u001b[0m         l\u001b[38;5;241m.\u001b[39m_internal_update(kwargs)\n\u001b[0;32m   1955\u001b[0m \u001b[38;5;28;01melse\u001b[39;00m:\n\u001b[1;32m-> 1956\u001b[0m     labels \u001b[38;5;241m=\u001b[39m ax\u001b[38;5;241m.\u001b[39mset_yticklabels(labels, minor\u001b[38;5;241m=\u001b[39mminor, \u001b[38;5;241m*\u001b[39m\u001b[38;5;241m*\u001b[39mkwargs)\n\u001b[0;32m   1958\u001b[0m \u001b[38;5;28;01mreturn\u001b[39;00m locs, labels\n",
      "File \u001b[1;32mc:\\Users\\faris\\anaconda3\\Lib\\site-packages\\matplotlib\\axes\\_base.py:74\u001b[0m, in \u001b[0;36m_axis_method_wrapper.__set_name__.<locals>.wrapper\u001b[1;34m(self, *args, **kwargs)\u001b[0m\n\u001b[0;32m     73\u001b[0m \u001b[38;5;28;01mdef\u001b[39;00m \u001b[38;5;21mwrapper\u001b[39m(\u001b[38;5;28mself\u001b[39m, \u001b[38;5;241m*\u001b[39margs, \u001b[38;5;241m*\u001b[39m\u001b[38;5;241m*\u001b[39mkwargs):\n\u001b[1;32m---> 74\u001b[0m     \u001b[38;5;28;01mreturn\u001b[39;00m get_method(\u001b[38;5;28mself\u001b[39m)(\u001b[38;5;241m*\u001b[39margs, \u001b[38;5;241m*\u001b[39m\u001b[38;5;241m*\u001b[39mkwargs)\n",
      "File \u001b[1;32mc:\\Users\\faris\\anaconda3\\Lib\\site-packages\\matplotlib\\_api\\deprecation.py:297\u001b[0m, in \u001b[0;36mrename_parameter.<locals>.wrapper\u001b[1;34m(*args, **kwargs)\u001b[0m\n\u001b[0;32m    292\u001b[0m     warn_deprecated(\n\u001b[0;32m    293\u001b[0m         since, message\u001b[38;5;241m=\u001b[39m\u001b[38;5;124mf\u001b[39m\u001b[38;5;124m\"\u001b[39m\u001b[38;5;124mThe \u001b[39m\u001b[38;5;132;01m{\u001b[39;00mold\u001b[38;5;132;01m!r}\u001b[39;00m\u001b[38;5;124m parameter of \u001b[39m\u001b[38;5;132;01m{\u001b[39;00mfunc\u001b[38;5;241m.\u001b[39m\u001b[38;5;18m__name__\u001b[39m\u001b[38;5;132;01m}\u001b[39;00m\u001b[38;5;124m() \u001b[39m\u001b[38;5;124m\"\u001b[39m\n\u001b[0;32m    294\u001b[0m         \u001b[38;5;124mf\u001b[39m\u001b[38;5;124m\"\u001b[39m\u001b[38;5;124mhas been renamed \u001b[39m\u001b[38;5;132;01m{\u001b[39;00mnew\u001b[38;5;132;01m!r}\u001b[39;00m\u001b[38;5;124m since Matplotlib \u001b[39m\u001b[38;5;132;01m{\u001b[39;00msince\u001b[38;5;132;01m}\u001b[39;00m\u001b[38;5;124m; support \u001b[39m\u001b[38;5;124m\"\u001b[39m\n\u001b[0;32m    295\u001b[0m         \u001b[38;5;124mf\u001b[39m\u001b[38;5;124m\"\u001b[39m\u001b[38;5;124mfor the old name will be dropped %(removal)s.\u001b[39m\u001b[38;5;124m\"\u001b[39m)\n\u001b[0;32m    296\u001b[0m     kwargs[new] \u001b[38;5;241m=\u001b[39m kwargs\u001b[38;5;241m.\u001b[39mpop(old)\n\u001b[1;32m--> 297\u001b[0m \u001b[38;5;28;01mreturn\u001b[39;00m func(\u001b[38;5;241m*\u001b[39margs, \u001b[38;5;241m*\u001b[39m\u001b[38;5;241m*\u001b[39mkwargs)\n",
      "File \u001b[1;32mc:\\Users\\faris\\anaconda3\\Lib\\site-packages\\matplotlib\\axis.py:1969\u001b[0m, in \u001b[0;36mAxis.set_ticklabels\u001b[1;34m(self, labels, minor, fontdict, **kwargs)\u001b[0m\n\u001b[0;32m   1965\u001b[0m \u001b[38;5;28;01mif\u001b[39;00m \u001b[38;5;28misinstance\u001b[39m(locator, mticker\u001b[38;5;241m.\u001b[39mFixedLocator):\n\u001b[0;32m   1966\u001b[0m     \u001b[38;5;66;03m# Passing [] as a list of labels is often used as a way to\u001b[39;00m\n\u001b[0;32m   1967\u001b[0m     \u001b[38;5;66;03m# remove all tick labels, so only error for > 0 labels\u001b[39;00m\n\u001b[0;32m   1968\u001b[0m     \u001b[38;5;28;01mif\u001b[39;00m \u001b[38;5;28mlen\u001b[39m(locator\u001b[38;5;241m.\u001b[39mlocs) \u001b[38;5;241m!=\u001b[39m \u001b[38;5;28mlen\u001b[39m(labels) \u001b[38;5;129;01mand\u001b[39;00m \u001b[38;5;28mlen\u001b[39m(labels) \u001b[38;5;241m!=\u001b[39m \u001b[38;5;241m0\u001b[39m:\n\u001b[1;32m-> 1969\u001b[0m         \u001b[38;5;28;01mraise\u001b[39;00m \u001b[38;5;167;01mValueError\u001b[39;00m(\n\u001b[0;32m   1970\u001b[0m             \u001b[38;5;124m\"\u001b[39m\u001b[38;5;124mThe number of FixedLocator locations\u001b[39m\u001b[38;5;124m\"\u001b[39m\n\u001b[0;32m   1971\u001b[0m             \u001b[38;5;124mf\u001b[39m\u001b[38;5;124m\"\u001b[39m\u001b[38;5;124m (\u001b[39m\u001b[38;5;132;01m{\u001b[39;00m\u001b[38;5;28mlen\u001b[39m(locator\u001b[38;5;241m.\u001b[39mlocs)\u001b[38;5;132;01m}\u001b[39;00m\u001b[38;5;124m), usually from a call to\u001b[39m\u001b[38;5;124m\"\u001b[39m\n\u001b[0;32m   1972\u001b[0m             \u001b[38;5;124m\"\u001b[39m\u001b[38;5;124m set_ticks, does not match\u001b[39m\u001b[38;5;124m\"\u001b[39m\n\u001b[0;32m   1973\u001b[0m             \u001b[38;5;124mf\u001b[39m\u001b[38;5;124m\"\u001b[39m\u001b[38;5;124m the number of labels (\u001b[39m\u001b[38;5;132;01m{\u001b[39;00m\u001b[38;5;28mlen\u001b[39m(labels)\u001b[38;5;132;01m}\u001b[39;00m\u001b[38;5;124m).\u001b[39m\u001b[38;5;124m\"\u001b[39m)\n\u001b[0;32m   1974\u001b[0m     tickd \u001b[38;5;241m=\u001b[39m {loc: lab \u001b[38;5;28;01mfor\u001b[39;00m loc, lab \u001b[38;5;129;01min\u001b[39;00m \u001b[38;5;28mzip\u001b[39m(locator\u001b[38;5;241m.\u001b[39mlocs, labels)}\n\u001b[0;32m   1975\u001b[0m     func \u001b[38;5;241m=\u001b[39m functools\u001b[38;5;241m.\u001b[39mpartial(\u001b[38;5;28mself\u001b[39m\u001b[38;5;241m.\u001b[39m_format_with_dict, tickd)\n",
      "\u001b[1;31mValueError\u001b[0m: The number of FixedLocator locations (30), usually from a call to set_ticks, does not match the number of labels (4)."
     ]
    },
    {
     "data": {
      "image/png": "[encoded data removed]",
      "text/plain": [
       "<Figure size 640x480 with 1 Axes>"
      ]
     },
     "metadata": {},
     "output_type": "display_data"
    }
   ],
   "source": [
    "import matplotlib.pyplot as plt\n",
    "import numpy as np\n",
    "\n",
    "# Define the function to plot feature importances\n",
    "def plot_feature_importances_cancer(model):\n",
    "    n_features = X_train.shape[1]  # Number of features in the dataset\n",
    "    plt.barh(range(n_features), model.feature_importances_, align='center')\n",
    "    plt.yticks(np.arange(n_features), feature_names)  # Replace 'feature_names' with your actual feature names\n",
    "    plt.xlabel(\"Feature Importance\")\n",
    "    plt.ylabel(\"Feature\")\n",
    "    plt.show()\n",
    "\n",
    "# Assuming feature_names is defined (if not, replace it with your actual feature names)\n",
    "# For example:\n",
    "# feature_names = X_train.columns if it's a pandas DataFrame, or manually define the names if X_train is a NumPy array.\n",
    "\n",
    "# Example feature names (if X_train is a NumPy array)\n",
    "feature_names = ['feature1', 'feature2', 'feature3', 'feature4']  # Replace with actual names\n",
    "\n",
    "# Call the function to plot feature importances\n",
    "plot_feature_importances_cancer(gbrt)\n"
   ]
  },
  {
   "cell_type": "markdown",
   "metadata": {},
   "source": [
    "### Strengths, Weaknesses, and Parameters of Gradient Boosted Decision Trees (GBDT) – Simplified:\n",
    "\n",
    "**Strengths**:\n",
    "1. **Powerful and Accurate**: Gradient boosted decision trees (GBDT) are **among the most powerful** models for supervised learning tasks like classification and regression. They often outperform other algorithms.\n",
    "2. **Good with Mixed Features**: They work well with both **binary** and **continuous** features (numbers and yes/no values), without the need for scaling (no need to standardize data).\n",
    "3. **No Scaling Required**: You don't need to normalize or scale your data like with other models (e.g., linear models).\n",
    "  \n",
    "**Weaknesses**:\n",
    "1. **Sensitive to Parameter Tuning**: GBDT models require careful **tuning of parameters** like the number of trees and learning rate. Poor choices can lead to suboptimal performance or overfitting.\n",
    "2. **Slow Training Time**: GBDT can take **longer to train** than some other algorithms, especially when the dataset is large.\n",
    "3. **Doesn’t Perform Well on High-Dimensional Sparse Data**: If your data has many features (high-dimensional) and a lot of zeros (sparse), GBDT may not perform as well. Models like linear classifiers tend to be better for that type of data.\n",
    "\n",
    "### Key Parameters to Tune:\n",
    "1. **n_estimators**: \n",
    "   - This is the **number of trees** in the model.\n",
    "   - A **larger number of trees** increases model complexity and accuracy, but can lead to **overfitting** (where the model is too specific to the training data).\n",
    "   - More trees also increase training time.\n",
    "   \n",
    "2. **learning_rate**:\n",
    "   - This controls how much each tree contributes to improving the overall model. It **adjusts the strength** of each new tree.\n",
    "   - **Lower learning_rate** values (e.g., 0.01) mean you need **more trees** (higher `n_estimators`), but can lead to a more robust model that is less prone to overfitting.\n",
    "   - **Higher learning_rate** values (e.g., 0.1 or higher) speed up learning but may lead to overfitting with fewer trees.\n",
    "\n",
    "3. **max_depth** (or **max_leaf_nodes**):\n",
    "   - These parameters control the **complexity of each tree**.\n",
    "   - Usually, GBDT trees are kept **shallow** (low max_depth), often **not deeper than 5 splits**. This keeps the model simple, prevents overfitting, and reduces training time.\n",
    "\n",
    "### Important Relationships:\n",
    "- **n_estimators** and **learning_rate** are connected. A **smaller learning_rate** requires **more trees** (higher `n_estimators`) to reach the same accuracy as a larger learning rate with fewer trees.\n",
    "- **max_depth** controls how complex each individual tree is. Usually, GBDT uses **shallow trees** to avoid overfitting and reduce computation.\n",
    "\n",
    "### Best Practices:\n",
    "- **Balance `n_estimators` and `learning_rate`**: Start with a lower `learning_rate` (like 0.01 or 0.1) and increase `n_estimators` until the model performs well without overfitting.\n",
    "- **Set a low `max_depth`**: Shallow trees (depth between 1 and 5) are common in GBDT to keep the model general and fast.\n",
    "- **Watch for overfitting**: A large number of trees can lead to overfitting if the learning rate and tree depth are not set carefully. You may need to use validation data to tune these parameters.\n",
    "\n",
    "GBDT is a highly effective algorithm when tuned correctly, making it a popular choice in competitions and industry applications."
   ]
  }
 ],
 "metadata": {
  "kernelspec": {
   "display_name": "base",
   "language": "python",
   "name": "python3"
  },
  "language_info": {
   "codemirror_mode": {
    "name": "ipython",
    "version": 3
   },
   "file_extension": ".py",
   "mimetype": "text/x-python",
   "name": "python",
   "nbconvert_exporter": "python",
   "pygments_lexer": "ipython3",
   "version": "3.11.7"
  }
 },
 "nbformat": 4,
 "nbformat_minor": 2
}

{
 "cells": [
  {
   "cell_type": "code",
   "execution_count": 27,
   "metadata": {},
   "outputs": [
    {
     "name": "stdout",
     "output_type": "stream",
     "text": [
      "             Date   Time       BO       BH       BL       BC      BCh  \\\n",
      "0      2005-05-02  00:00  1.28520  1.28520  1.28400  1.28440 -0.00080   \n",
      "1      2005-05-02  01:00  1.28440  1.28480  1.28390  1.28420 -0.00020   \n",
      "2      2005-05-02  02:00  1.28430  1.28540  1.28410  1.28510  0.00080   \n",
      "3      2005-05-02  03:00  1.28510  1.28590  1.28500  1.28510  0.00000   \n",
      "4      2005-05-02  04:00  1.28520  1.28590  1.28490  1.28550  0.00030   \n",
      "...           ...    ...      ...      ...      ...      ...      ...   \n",
      "93079  2020-04-29  18:00  1.08620  1.08851  1.08611  1.08713  0.00093   \n",
      "93080  2020-04-29  19:00  1.08711  1.08823  1.08659  1.08748  0.00037   \n",
      "93081  2020-04-29  20:00  1.08747  1.08788  1.08691  1.08708 -0.00039   \n",
      "93082  2020-04-29  21:00  1.08708  1.08740  1.08699  1.08714  0.00006   \n",
      "93083  2020-04-29  22:00  1.08728  1.08760  1.08727  1.08743  0.00015   \n",
      "\n",
      "            AO       AH       AL       AC      ACh  \n",
      "0      1.28540  1.28540  1.28420  1.28460 -0.00080  \n",
      "1      1.28460  1.28500  1.28410  1.28440 -0.00020  \n",
      "2      1.28450  1.28560  1.28430  1.28530  0.00080  \n",
      "3      1.28530  1.28610  1.28520  1.28530  0.00000  \n",
      "4      1.28540  1.28610  1.28510  1.28570  0.00030  \n",
      "...        ...      ...      ...      ...      ...  \n",
      "93079  1.08660  1.08865  1.08640  1.08726  0.00066  \n",
      "93080  1.08725  1.08837  1.08675  1.08760  0.00035  \n",
      "93081  1.08758  1.08810  1.08706  1.08808  0.00050  \n",
      "93082  1.08808  1.08814  1.08763  1.08766 -0.00042  \n",
      "93083  1.08756  1.08779  1.08749  1.08760  0.00004  \n",
      "\n",
      "[93084 rows x 12 columns]\n"
     ]
    }
   ],
   "source": [
    "import pandas as pd\n",
    "import numpy as np\n",
    "import matplotlib.pyplot as plt\n",
    "from sklearn.preprocessing import PolynomialFeatures\n",
    "from sklearn.linear_model import LinearRegression\n",
    "from sklearn.metrics import mean_squared_error, r2_score\n",
    "from sklearn.model_selection import train_test_split\n",
    "\n",
    "df = pd.read_csv('eurusd_hour.csv')\n",
    "df.head()\n",
    "\n",
    "print(df)\n",
    "\n",
    "df.rename(columns={\n",
    "    'BO': 'Opening bid price',\n",
    "    'BH': 'Highest bid price',\n",
    "    'BL': 'Lowest bid price',\n",
    "    'BC': 'Closing bid price',\n",
    "    'BCh': 'Change between bid open and close price',\n",
    "    'AO': 'Opening ask price',\n",
    "    'AH': 'Highest ask price',\n",
    "    'AL': 'Lowest ask price',\n",
    "    'AC': 'Closing ask price',\n",
    "    'ACh': 'Change between ask open and close price'\n",
    "}, inplace=True)\n",
    "\n"
   ]
  },
  {
   "cell_type": "code",
   "execution_count": 35,
   "metadata": {},
   "outputs": [
    {
     "name": "stdout",
     "output_type": "stream",
     "text": [
      "   Opening bid price  Highest bid price  Lowest bid price  Closing bid price  \\\n",
      "0             1.2852             1.2852            1.2840             1.2844   \n",
      "1             1.2844             1.2848            1.2839             1.2842   \n",
      "2             1.2843             1.2854            1.2841             1.2851   \n",
      "3             1.2851             1.2859            1.2850             1.2851   \n",
      "4             1.2852             1.2859            1.2849             1.2855   \n",
      "\n",
      "   Change between bid open and close price  Opening ask price  \\\n",
      "0                                  -0.0008             1.2854   \n",
      "1                                  -0.0002             1.2846   \n",
      "2                                   0.0008             1.2845   \n",
      "3                                   0.0000             1.2853   \n",
      "4                                   0.0003             1.2854   \n",
      "\n",
      "   Highest ask price  Lowest ask price  Closing ask price  \\\n",
      "0             1.2854            1.2842             1.2846   \n",
      "1             1.2850            1.2841             1.2844   \n",
      "2             1.2856            1.2843             1.2853   \n",
      "3             1.2861            1.2852             1.2853   \n",
      "4             1.2861            1.2851             1.2857   \n",
      "\n",
      "   Change between ask open and close price   Timestamp  Minutes_Since_Start  \n",
      "0                                  -0.0008  1114992000                  0.0  \n",
      "1                                  -0.0002  1114995600                 60.0  \n",
      "2                                   0.0008  1114999200                120.0  \n",
      "3                                   0.0000  1115002800                180.0  \n",
      "4                                   0.0003  1115006400                240.0  \n"
     ]
    }
   ],
   "source": [
    "# Combine Date and Time into a single datetime column\n",
    "df['Datetime'] = pd.to_datetime(df['Date'] + ' ' + df['Time'])\n",
    "\n",
    "# Convert the datetime column to a numeric format (e.g., timestamp)\n",
    "df['Timestamp'] = df['Datetime'].astype('int64') // 10**9  # Convert to seconds since epoch\n",
    "\n",
    "# Alternatively, you could calculate the minutes since the start of the data\n",
    "df['Minutes_Since_Start'] = (df['Datetime'] - df['Datetime'].min()).dt.total_seconds() / 60\n",
    "\n",
    "# Drop the original Date and Time columns\n",
    "df = df.drop(columns=['Date', 'Time', 'Datetime'])\n",
    "\n",
    "# Display the resulting DataFrame\n",
    "print(df.head())"
   ]
  },
  {
   "cell_type": "code",
   "execution_count": 37,
   "metadata": {},
   "outputs": [],
   "source": [
    "\n",
    "\n",
    "x1 = df[['Minutes_Since_Start']]\n",
    "y1 = df[['Opening bid price']]\n",
    "\n"
   ]
  },
  {
   "cell_type": "code",
   "execution_count": 38,
   "metadata": {},
   "outputs": [],
   "source": [
    "# Split the data into training and testing sets (80% train, 20% test)\n",
    "x_train, x_test, y_train, y_test = train_test_split(x1, y1, test_size=0.2, random_state=42)\n"
   ]
  },
  {
   "cell_type": "code",
   "execution_count": 39,
   "metadata": {},
   "outputs": [],
   "source": [
    "# Transform the data to include polynomial features\n",
    "poly = PolynomialFeatures(degree=2)  # degree=2 for quadratic relationship\n",
    "x_train_poly = poly.fit_transform(x_train)\n",
    "x_test_poly = poly.transform(x_test)\n",
    "\n",
    "# Fit the model on the training data\n",
    "model = LinearRegression()\n",
    "model.fit(x_train_poly, y_train)\n",
    "\n",
    "# Predict using the model on both training and testing data\n",
    "y_train_pred = model.predict(x_train_poly)\n",
    "y_test_pred = model.predict(x_test_poly)\n"
   ]
  },
  {
   "cell_type": "code",
   "execution_count": 40,
   "metadata": {},
   "outputs": [
    {
     "name": "stdout",
     "output_type": "stream",
     "text": [
      "Training Mean Squared Error: 0.007498810374792284\n",
      "Training R^2 Score: 0.5353036912571345\n",
      "Testing Mean Squared Error: 0.00747981496395595\n",
      "Testing R^2 Score: 0.5313479030089978\n"
     ]
    }
   ],
   "source": [
    "# Calculate metrics for training data\n",
    "train_mse = mean_squared_error(y_train, y_train_pred)\n",
    "train_r2 = r2_score(y_train, y_train_pred)\n",
    "\n",
    "# Calculate metrics for testing data\n",
    "test_mse = mean_squared_error(y_test, y_test_pred)\n",
    "test_r2 = r2_score(y_test, y_test_pred)\n",
    "\n",
    "print(f\"Training Mean Squared Error: {train_mse}\")\n",
    "print(f\"Training R^2 Score: {train_r2}\")\n",
    "print(f\"Testing Mean Squared Error: {test_mse}\")\n",
    "print(f\"Testing R^2 Score: {test_r2}\")\n"
   ]
  },
  {
   "cell_type": "code",
   "execution_count": 41,
   "metadata": {},
   "outputs": [
    {
     "data": {
      "image/png": "[encoded data removed]",
      "text/plain": [
       "<Figure size 640x480 with 1 Axes>"
      ]
     },
     "metadata": {},
     "output_type": "display_data"
    }
   ],
   "source": [
    "# Sort the test values for better visualization\n",
    "import operator\n",
    "sort_axis = operator.itemgetter(0)\n",
    "sorted_zip = sorted(zip(x_test, y_test_pred), key=sort_axis)\n",
    "x_test_sorted, y_test_pred_sorted = zip(*sorted_zip)\n",
    "\n",
    "plt.scatter(x_test, y_test, color='blue', label='Test Data')\n",
    "plt.plot(x_test_sorted, y_test_pred_sorted, color='red', label='Polynomial Fit (Test)')\n",
    "plt.xlabel('X')\n",
    "plt.ylabel('Y')\n",
    "plt.title('Polynomial Regression (Test Set)')\n",
    "plt.legend()\n",
    "plt.show()\n"
   ]
  }
 ],
 "metadata": {
  "kernelspec": {
   "display_name": "Python 3",
   "language": "python",
   "name": "python3"
  },
  "language_info": {
   "codemirror_mode": {
    "name": "ipython",
    "version": 3
   },
   "file_extension": ".py",
   "mimetype": "text/x-python",
   "name": "python",
   "nbconvert_exporter": "python",
   "pygments_lexer": "ipython3",
   "version": "3.12.2"
  }
 },
 "nbformat": 4,
 "nbformat_minor": 2
}
